{
 "cells": [
  {
   "cell_type": "markdown",
   "id": "71e17001-3462-4314-acb0-10f3f92398d1",
   "metadata": {},
   "source": [
    "# Find all PDBs associated with UniProt AC.\n",
    "\n",
    "Conny Yu, 08/2024<br><br>\n",
    "Using UniProt API, find all PDBs associated to the UniProt entry.<br>\n",
    "Using PDB API, find all references (including preprints) and their PMIDs associated to each PDB.<br>\n",
    "Input: UniProt AC."
   ]
  },
  {
   "cell_type": "code",
   "execution_count": 7,
   "id": "6d9ec833-d62e-48d0-9a4e-c6ee2d03a52f",
   "metadata": {
    "scrolled": true
   },
   "outputs": [
    {
     "name": "stdin",
     "output_type": "stream",
     "text": [
      "Enter UniProt AC:  Q9UQ13\n"
     ]
    },
    {
     "name": "stdout",
     "output_type": "stream",
     "text": [
      "\u001b[1mPMIDs and associated PDB codes for UniProt AC Q9UQ13:\u001b[0m\n",
      "PMID: 35831509\n",
      "  Associated PDBs: 7UPI, 7T7A\n",
      "PMID: 36175670\n",
      "  Associated PDBs: 7TVG, 7TVF\n",
      "PMID: 35830882\n",
      "  Associated PDBs: 7TYG, 7TXH\n",
      "PMID: 35768504\n",
      "  Associated PDBs: 7SD1, 7SD0\n",
      "\n",
      "\u001b[1mAll associated PDBs:\u001b[0m\n",
      "7upi, 7tvg, 7t7a, 7tyg, 7tvf, 7sd1, 7txh, 7sd0\n",
      "\n",
      "\u001b[1mAll associated references:\u001b[0m\n",
      "35768504, 35830882, 35831509, 36175670\n",
      "\n",
      "\u001b[1mTo use in Pymol command:\u001b[0m\n",
      "fetch 7upi; fetch 7tvg; fetch 7t7a; fetch 7tyg; fetch 7tvf; fetch 7sd1; fetch 7txh; fetch 7sd0\n"
     ]
    }
   ],
   "source": [
    "import requests\n",
    "from collections import defaultdict\n",
    "\n",
    "def get_pdb_codes(uniprot_ac):\n",
    "    # Query UniProt API to get the PDB information\n",
    "    uniprot_url = f\"https://www.uniprot.org/uniprot/{uniprot_ac}.xml\"\n",
    "    response = requests.get(uniprot_url)\n",
    "    \n",
    "    if response.status_code != 200:\n",
    "        print(f\"\\033[1mError fetching data from UniProt for AC {uniprot_ac}\\033[0m\")\n",
    "        return []\n",
    "    \n",
    "    xml_data = response.text\n",
    "    \n",
    "    # Extract the PDB codes from the XML data\n",
    "    pdb_codes = set()\n",
    "    for line in xml_data.splitlines():\n",
    "        if 'dbReference type=\"PDB\"' in line:\n",
    "            start = line.find('id=\"') + 4\n",
    "            end = line.find('\"', start)\n",
    "            pdb_code = line[start:end]\n",
    "            pdb_codes.add(pdb_code)\n",
    "    \n",
    "    return list(pdb_codes)\n",
    "\n",
    "def get_pdb_pmids(pdb_code):\n",
    "    # Query RCSB PDB API to get references for the PDB code\n",
    "    pdb_url = f\"https://data.rcsb.org/rest/v1/core/entry/{pdb_code}\"\n",
    "    response = requests.get(pdb_url)\n",
    "    \n",
    "    if response.status_code != 200:\n",
    "        print(f\"\\033[1mError fetching data from RCSB PDB for PDB code {pdb_code}\\033[0m\")\n",
    "        return []\n",
    "    \n",
    "    pdb_data = response.json()\n",
    "    \n",
    "    # Extract PMIDs from the PDB data\n",
    "    pmids = set()\n",
    "    if 'rcsb_primary_citation' in pdb_data:\n",
    "        primary_citation = pdb_data['rcsb_primary_citation']\n",
    "        if 'pdbx_database_id_pub_med' in primary_citation:\n",
    "            pmids.add(primary_citation['pdbx_database_id_pub_med'])\n",
    "    \n",
    "    if 'citation' in pdb_data:\n",
    "        for citation in pdb_data['citation']:\n",
    "            if 'pdbx_database_id_pub_med' in citation:\n",
    "                pmids.add(citation['pdbx_database_id_pub_med'])\n",
    "    \n",
    "    return list(pmids)\n",
    "\n",
    "def main():\n",
    "    # Prompt the user for the UniProt AC number\n",
    "    uniprot_ac = input(\"Enter UniProt AC: \").strip()\n",
    "    \n",
    "    # Get the list of PDB codes associated with the given UniProt AC number\n",
    "    pdb_codes = get_pdb_codes(uniprot_ac)\n",
    "    \n",
    "    pmid_to_pdb = defaultdict(list)\n",
    "    all_pmids = set()\n",
    "    \n",
    "    if pdb_codes:\n",
    "        for pdb_code in pdb_codes:\n",
    "            pmids = get_pdb_pmids(pdb_code)\n",
    "            for pmid in pmids:\n",
    "                pmid_to_pdb[pmid].append(pdb_code)\n",
    "                all_pmids.add(pmid)\n",
    "        \n",
    "        print(f\"\\033[1mPMIDs and associated PDB codes for UniProt AC {uniprot_ac}:\\033[0m\")\n",
    "        for pmid, pdb_list in pmid_to_pdb.items():\n",
    "            print(f\"PMID: {pmid}\")\n",
    "            print(f\"  Associated PDBs: {', '.join(pdb_list)}\")\n",
    "\n",
    "        # All associated PDBs\n",
    "        print(\"\\n\\033[1mAll associated PDBs:\\033[0m\")\n",
    "        print(\", \".join(str(pdb_code).lower() for pdb_code in pdb_codes))\n",
    "        \n",
    "        # Output for Asterix GM\n",
    "        print(\"\\n\\033[1mAll associated references:\\033[0m\")\n",
    "        print(\", \".join(str(pmid) for pmid in all_pmids))\n",
    "        \n",
    "        # Output for PyMOL command\n",
    "        print(\"\\n\\033[1mTo use in Pymol command:\\033[0m\")\n",
    "        print(\"fetch \" + \"; fetch \".join(str(pdb_code).lower() for pdb_code in pdb_codes))\n",
    "    else:\n",
    "        print(f\"No PDB codes found for UniProt AC {uniprot_ac}.\")\n",
    "\n",
    "if __name__ == \"__main__\":\n",
    "    main()\n"
   ]
  }
 ],
 "metadata": {
  "kernelspec": {
   "display_name": "Python 3 (ipykernel)",
   "language": "python",
   "name": "python3"
  },
  "language_info": {
   "codemirror_mode": {
    "name": "ipython",
    "version": 3
   },
   "file_extension": ".py",
   "mimetype": "text/x-python",
   "name": "python",
   "nbconvert_exporter": "python",
   "pygments_lexer": "ipython3",
   "version": "3.12.4"
  }
 },
 "nbformat": 4,
 "nbformat_minor": 5
}
